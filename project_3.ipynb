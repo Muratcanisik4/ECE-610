{
  "cells": [
    {
      "cell_type": "code",
      "execution_count": 1,
      "metadata": {
        "colab": {
          "base_uri": "https://localhost:8080/"
        },
        "id": "p3bKLxOT6ieo",
        "outputId": "25234dcc-1953-476c-b503-5de2cad57fb0"
      },
      "outputs": [
        {
          "output_type": "stream",
          "name": "stdout",
          "text": [
            "Mounted at /content/gdrive\n"
          ]
        }
      ],
      "source": [
        "from google.colab import drive\n",
        "drive.mount('/content/gdrive')"
      ]
    },
    {
      "cell_type": "code",
      "source": [
        "# The path where the data is located\n",
        "path = '/content/gdrive/My Drive/ColabNotebooks/ECE 612/project 3'"
      ],
      "metadata": {
        "id": "y6sCaZ5BO48b"
      },
      "execution_count": 2,
      "outputs": []
    },
    {
      "cell_type": "code",
      "execution_count": 3,
      "metadata": {
        "id": "cjsRNM9a2xeW"
      },
      "outputs": [],
      "source": [
        "import keras\n",
        "import os\n",
        "import pickle\n",
        "from keras.models import Sequential\n",
        "from keras.utils import np_utils\n",
        "from tensorflow import keras\n",
        "from keras import optimizers\n",
        "from keras.layers import Dense, Activation, Flatten, Dropout, BatchNormalization\n",
        "from keras.layers import Conv2D, MaxPooling2D\n",
        "from keras.callbacks import ModelCheckpoint, EarlyStopping\n",
        "from keras import regularizers\n",
        "import numpy as np\n",
        "\n",
        "from sklearn.model_selection import train_test_split\n",
        "\n",
        "from sklearn.metrics import accuracy_score\n",
        "from sklearn.metrics import ConfusionMatrixDisplay\n",
        "from sklearn.metrics import confusion_matrix"
      ]
    },
    {
      "cell_type": "code",
      "source": [
        "X = open(os.path.join(path,'project3trainset.pkl'),'rb')\n",
        "X = pickle.load(X)\n",
        "y = open(os.path.join(path,'project3trainlabel.pkl'),'rb')\n",
        "y = pickle.load(y)\n",
        "X.shape, y.shape"
      ],
      "metadata": {
        "colab": {
          "base_uri": "https://localhost:8080/"
        },
        "id": "xFYK-kYaOrYo",
        "outputId": "69cf95af-b0bd-463d-a7fb-4fa8445df436"
      },
      "execution_count": 4,
      "outputs": [
        {
          "output_type": "execute_result",
          "data": {
            "text/plain": [
              "((55000, 28, 28), (55000,))"
            ]
          },
          "metadata": {},
          "execution_count": 4
        }
      ]
    },
    {
      "cell_type": "code",
      "source": [
        "xtrain , xtest ,ytrain, ytest = train_test_split(X,y,test_size =0.2,shuffle = True,random_state = 15)\n",
        "ytrain_bak = ytrain\n",
        "ytest_bak = ytest\n",
        "xtrain.shape , xtest.shape ,ytrain.shape, ytest.shape"
      ],
      "metadata": {
        "colab": {
          "base_uri": "https://localhost:8080/"
        },
        "id": "UEH62EF2Phs6",
        "outputId": "a96a522e-a477-4a59-ce66-dbfd8caffd04"
      },
      "execution_count": 17,
      "outputs": [
        {
          "output_type": "execute_result",
          "data": {
            "text/plain": [
              "((44000, 28, 28), (11000, 28, 28), (44000,), (11000,))"
            ]
          },
          "metadata": {},
          "execution_count": 17
        }
      ]
    },
    {
      "cell_type": "code",
      "execution_count": 18,
      "metadata": {
        "colab": {
          "base_uri": "https://localhost:8080/"
        },
        "id": "rD4lUybA1HMz",
        "outputId": "4a58c2e7-08aa-4607-d750-a90284a6dc74"
      },
      "outputs": [
        {
          "output_type": "execute_result",
          "data": {
            "text/plain": [
              "((44000, 10), (11000, 10))"
            ]
          },
          "metadata": {},
          "execution_count": 18
        }
      ],
      "source": [
        "classes = 10\n",
        "ytrain = np_utils.to_categorical(ytrain,classes)\n",
        "ytest = np_utils.to_categorical(ytest,classes)\n",
        "ytrain.shape, ytest.shape"
      ]
    },
    {
      "cell_type": "code",
      "execution_count": 7,
      "metadata": {
        "colab": {
          "base_uri": "https://localhost:8080/"
        },
        "id": "lDxwRra54AfG",
        "outputId": "81f0643b-47c9-4996-8d9b-78573e161d18"
      },
      "outputs": [
        {
          "output_type": "stream",
          "name": "stdout",
          "text": [
            "Model: \"sequential\"\n",
            "_________________________________________________________________\n",
            " Layer (type)                Output Shape              Param #   \n",
            "=================================================================\n",
            " conv2d (Conv2D)             (None, 28, 28, 28)        280       \n",
            "                                                                 \n",
            " activation (Activation)     (None, 28, 28, 28)        0         \n",
            "                                                                 \n",
            " batch_normalization (BatchN  (None, 28, 28, 28)       112       \n",
            " ormalization)                                                   \n",
            "                                                                 \n",
            " max_pooling2d (MaxPooling2D  (None, 14, 14, 28)       0         \n",
            " )                                                               \n",
            "                                                                 \n",
            " dropout (Dropout)           (None, 14, 14, 28)        0         \n",
            "                                                                 \n",
            " conv2d_1 (Conv2D)           (None, 14, 14, 28)        7084      \n",
            "                                                                 \n",
            " activation_1 (Activation)   (None, 14, 14, 28)        0         \n",
            "                                                                 \n",
            " batch_normalization_1 (Batc  (None, 14, 14, 28)       112       \n",
            " hNormalization)                                                 \n",
            "                                                                 \n",
            " max_pooling2d_1 (MaxPooling  (None, 7, 7, 28)         0         \n",
            " 2D)                                                             \n",
            "                                                                 \n",
            " dropout_1 (Dropout)         (None, 7, 7, 28)          0         \n",
            "                                                                 \n",
            " conv2d_2 (Conv2D)           (None, 7, 7, 28)          7084      \n",
            "                                                                 \n",
            " activation_2 (Activation)   (None, 7, 7, 28)          0         \n",
            "                                                                 \n",
            " batch_normalization_2 (Batc  (None, 7, 7, 28)         112       \n",
            " hNormalization)                                                 \n",
            "                                                                 \n",
            " max_pooling2d_2 (MaxPooling  (None, 3, 3, 28)         0         \n",
            " 2D)                                                             \n",
            "                                                                 \n",
            " dropout_2 (Dropout)         (None, 3, 3, 28)          0         \n",
            "                                                                 \n",
            " conv2d_3 (Conv2D)           (None, 3, 3, 28)          7084      \n",
            "                                                                 \n",
            " activation_3 (Activation)   (None, 3, 3, 28)          0         \n",
            "                                                                 \n",
            " batch_normalization_3 (Batc  (None, 3, 3, 28)         112       \n",
            " hNormalization)                                                 \n",
            "                                                                 \n",
            " dropout_3 (Dropout)         (None, 3, 3, 28)          0         \n",
            "                                                                 \n",
            " conv2d_4 (Conv2D)           (None, 3, 3, 28)          7084      \n",
            "                                                                 \n",
            " activation_4 (Activation)   (None, 3, 3, 28)          0         \n",
            "                                                                 \n",
            " batch_normalization_4 (Batc  (None, 3, 3, 28)         112       \n",
            " hNormalization)                                                 \n",
            "                                                                 \n",
            " dropout_4 (Dropout)         (None, 3, 3, 28)          0         \n",
            "                                                                 \n",
            " conv2d_5 (Conv2D)           (None, 3, 3, 28)          7084      \n",
            "                                                                 \n",
            " activation_5 (Activation)   (None, 3, 3, 28)          0         \n",
            "                                                                 \n",
            " batch_normalization_5 (Batc  (None, 3, 3, 28)         112       \n",
            " hNormalization)                                                 \n",
            "                                                                 \n",
            " dropout_5 (Dropout)         (None, 3, 3, 28)          0         \n",
            "                                                                 \n",
            " conv2d_6 (Conv2D)           (None, 3, 3, 28)          7084      \n",
            "                                                                 \n",
            " activation_6 (Activation)   (None, 3, 3, 28)          0         \n",
            "                                                                 \n",
            " batch_normalization_6 (Batc  (None, 3, 3, 28)         112       \n",
            " hNormalization)                                                 \n",
            "                                                                 \n",
            " dropout_6 (Dropout)         (None, 3, 3, 28)          0         \n",
            "                                                                 \n",
            " conv2d_7 (Conv2D)           (None, 3, 3, 28)          7084      \n",
            "                                                                 \n",
            " activation_7 (Activation)   (None, 3, 3, 28)          0         \n",
            "                                                                 \n",
            " batch_normalization_7 (Batc  (None, 3, 3, 28)         112       \n",
            " hNormalization)                                                 \n",
            "                                                                 \n",
            " max_pooling2d_3 (MaxPooling  (None, 1, 1, 28)         0         \n",
            " 2D)                                                             \n",
            "                                                                 \n",
            " dropout_7 (Dropout)         (None, 1, 1, 28)          0         \n",
            "                                                                 \n",
            " flatten (Flatten)           (None, 28)                0         \n",
            "                                                                 \n",
            " dense (Dense)               (None, 10)                290       \n",
            "                                                                 \n",
            "=================================================================\n",
            "Total params: 51,054\n",
            "Trainable params: 50,606\n",
            "Non-trainable params: 448\n",
            "_________________________________________________________________\n"
          ]
        }
      ],
      "source": [
        "img_size = xtrain.shape[1]\n",
        "weight_decay = 1e-4\n",
        "model = Sequential()\n",
        "model.add(Conv2D(img_size, (3,3), padding='same', input_shape=(img_size, img_size, 1)))\n",
        "model.add(Activation('relu'))\n",
        "model.add(BatchNormalization())\n",
        "model.add(MaxPooling2D(pool_size=(2,2)))\n",
        "model.add(Dropout(0.2))\n",
        "\n",
        "model.add(Conv2D(img_size, (3,3), padding='same'))\n",
        "model.add(Activation('relu'))\n",
        "model.add(BatchNormalization())\n",
        "model.add(MaxPooling2D(pool_size=(2,2)))\n",
        "model.add(Dropout(0.2))\n",
        "\n",
        "model.add(Conv2D(img_size, (3,3), padding='same'))\n",
        "model.add(Activation('relu'))\n",
        "model.add(BatchNormalization())\n",
        "model.add(MaxPooling2D(pool_size=(2,2)))\n",
        "model.add(Dropout(0.2))\n",
        "\n",
        "model.add(Conv2D(img_size, (3,3), padding='same'))\n",
        "model.add(Activation('relu'))\n",
        "model.add(BatchNormalization())\n",
        "model.add(Dropout(0.2))\n",
        "\n",
        "model.add(Conv2D(img_size, (3,3), padding='same'))\n",
        "model.add(Activation('relu'))\n",
        "model.add(BatchNormalization())\n",
        "model.add(Dropout(0.2))\n",
        "\n",
        "model.add(Conv2D(img_size, (3,3), padding='same'))\n",
        "model.add(Activation('relu'))\n",
        "model.add(BatchNormalization())\n",
        "model.add(Dropout(0.2))\n",
        "\n",
        "model.add(Conv2D(img_size, (3,3), padding='same'))\n",
        "model.add(Activation('relu'))\n",
        "model.add(BatchNormalization())\n",
        "model.add(Dropout(0.2))\n",
        "\n",
        "model.add(Conv2D(img_size, (3,3), padding='same'))\n",
        "model.add(Activation('relu'))\n",
        "model.add(BatchNormalization())\n",
        "model.add(MaxPooling2D(pool_size=(2,2)))\n",
        "model.add(Dropout(0.2))\n",
        "\n",
        "model.add(Flatten())\n",
        "model.add(Dense(classes, activation='softmax'))\n",
        "\n",
        "model.summary()"
      ]
    },
    {
      "cell_type": "code",
      "execution_count": 8,
      "metadata": {
        "colab": {
          "base_uri": "https://localhost:8080/"
        },
        "id": "Myt8vf1z4NbS",
        "outputId": "b772959e-c90d-4af3-f2a4-3fb931ce6491"
      },
      "outputs": [
        {
          "output_type": "stream",
          "name": "stdout",
          "text": [
            "Epoch 1/200\n",
            "688/688 [==============================] - ETA: 0s - loss: 1.0803 - accuracy: 0.6186\n",
            "Epoch 1: val_loss improved from inf to 0.61330, saving model to murat.h5\n",
            "688/688 [==============================] - 22s 12ms/step - loss: 1.0803 - accuracy: 0.6186 - val_loss: 0.6133 - val_accuracy: 0.7753\n",
            "Epoch 2/200\n",
            "686/688 [============================>.] - ETA: 0s - loss: 0.6448 - accuracy: 0.7612\n",
            "Epoch 2: val_loss improved from 0.61330 to 0.50431, saving model to murat.h5\n",
            "688/688 [==============================] - 8s 12ms/step - loss: 0.6447 - accuracy: 0.7612 - val_loss: 0.5043 - val_accuracy: 0.8120\n",
            "Epoch 3/200\n",
            "688/688 [==============================] - ETA: 0s - loss: 0.5711 - accuracy: 0.7897\n",
            "Epoch 3: val_loss improved from 0.50431 to 0.48519, saving model to murat.h5\n",
            "688/688 [==============================] - 9s 13ms/step - loss: 0.5711 - accuracy: 0.7897 - val_loss: 0.4852 - val_accuracy: 0.8205\n",
            "Epoch 4/200\n",
            "683/688 [============================>.] - ETA: 0s - loss: 0.5304 - accuracy: 0.8081\n",
            "Epoch 4: val_loss improved from 0.48519 to 0.43857, saving model to murat.h5\n",
            "688/688 [==============================] - 8s 11ms/step - loss: 0.5298 - accuracy: 0.8083 - val_loss: 0.4386 - val_accuracy: 0.8400\n",
            "Epoch 5/200\n",
            "687/688 [============================>.] - ETA: 0s - loss: 0.5037 - accuracy: 0.8188\n",
            "Epoch 5: val_loss improved from 0.43857 to 0.43506, saving model to murat.h5\n",
            "688/688 [==============================] - 8s 12ms/step - loss: 0.5040 - accuracy: 0.8187 - val_loss: 0.4351 - val_accuracy: 0.8404\n",
            "Epoch 6/200\n",
            "684/688 [============================>.] - ETA: 0s - loss: 0.4859 - accuracy: 0.8235\n",
            "Epoch 6: val_loss improved from 0.43506 to 0.40372, saving model to murat.h5\n",
            "688/688 [==============================] - 7s 11ms/step - loss: 0.4859 - accuracy: 0.8235 - val_loss: 0.4037 - val_accuracy: 0.8504\n",
            "Epoch 7/200\n",
            "686/688 [============================>.] - ETA: 0s - loss: 0.4695 - accuracy: 0.8304\n",
            "Epoch 7: val_loss improved from 0.40372 to 0.38768, saving model to murat.h5\n",
            "688/688 [==============================] - 7s 10ms/step - loss: 0.4692 - accuracy: 0.8305 - val_loss: 0.3877 - val_accuracy: 0.8572\n",
            "Epoch 8/200\n",
            "686/688 [============================>.] - ETA: 0s - loss: 0.4601 - accuracy: 0.8345\n",
            "Epoch 8: val_loss improved from 0.38768 to 0.38225, saving model to murat.h5\n",
            "688/688 [==============================] - 8s 11ms/step - loss: 0.4602 - accuracy: 0.8344 - val_loss: 0.3823 - val_accuracy: 0.8548\n",
            "Epoch 9/200\n",
            "684/688 [============================>.] - ETA: 0s - loss: 0.4499 - accuracy: 0.8384\n",
            "Epoch 9: val_loss did not improve from 0.38225\n",
            "688/688 [==============================] - 7s 11ms/step - loss: 0.4498 - accuracy: 0.8383 - val_loss: 0.3862 - val_accuracy: 0.8577\n",
            "Epoch 10/200\n",
            "684/688 [============================>.] - ETA: 0s - loss: 0.4421 - accuracy: 0.8411\n",
            "Epoch 10: val_loss improved from 0.38225 to 0.38222, saving model to murat.h5\n",
            "688/688 [==============================] - 8s 11ms/step - loss: 0.4420 - accuracy: 0.8413 - val_loss: 0.3822 - val_accuracy: 0.8597\n",
            "Epoch 11/200\n",
            "686/688 [============================>.] - ETA: 0s - loss: 0.4361 - accuracy: 0.8434\n",
            "Epoch 11: val_loss improved from 0.38222 to 0.37012, saving model to murat.h5\n",
            "688/688 [==============================] - 8s 11ms/step - loss: 0.4362 - accuracy: 0.8434 - val_loss: 0.3701 - val_accuracy: 0.8623\n",
            "Epoch 12/200\n",
            "683/688 [============================>.] - ETA: 0s - loss: 0.4295 - accuracy: 0.8440\n",
            "Epoch 12: val_loss improved from 0.37012 to 0.36165, saving model to murat.h5\n",
            "688/688 [==============================] - 7s 11ms/step - loss: 0.4291 - accuracy: 0.8442 - val_loss: 0.3616 - val_accuracy: 0.8631\n",
            "Epoch 13/200\n",
            "684/688 [============================>.] - ETA: 0s - loss: 0.4255 - accuracy: 0.8466\n",
            "Epoch 13: val_loss did not improve from 0.36165\n",
            "688/688 [==============================] - 7s 11ms/step - loss: 0.4266 - accuracy: 0.8464 - val_loss: 0.3743 - val_accuracy: 0.8605\n",
            "Epoch 14/200\n",
            "685/688 [============================>.] - ETA: 0s - loss: 0.4195 - accuracy: 0.8467\n",
            "Epoch 14: val_loss did not improve from 0.36165\n",
            "688/688 [==============================] - 8s 11ms/step - loss: 0.4195 - accuracy: 0.8468 - val_loss: 0.3699 - val_accuracy: 0.8646\n",
            "Epoch 15/200\n",
            "686/688 [============================>.] - ETA: 0s - loss: 0.4142 - accuracy: 0.8499\n",
            "Epoch 15: val_loss did not improve from 0.36165\n",
            "688/688 [==============================] - 8s 12ms/step - loss: 0.4142 - accuracy: 0.8499 - val_loss: 0.3729 - val_accuracy: 0.8593\n",
            "Epoch 16/200\n",
            "684/688 [============================>.] - ETA: 0s - loss: 0.4110 - accuracy: 0.8511\n",
            "Epoch 16: val_loss did not improve from 0.36165\n",
            "688/688 [==============================] - 8s 11ms/step - loss: 0.4110 - accuracy: 0.8510 - val_loss: 0.3720 - val_accuracy: 0.8616\n",
            "Epoch 17/200\n",
            "686/688 [============================>.] - ETA: 0s - loss: 0.4073 - accuracy: 0.8496\n",
            "Epoch 17: val_loss improved from 0.36165 to 0.36019, saving model to murat.h5\n",
            "688/688 [==============================] - 8s 11ms/step - loss: 0.4073 - accuracy: 0.8496 - val_loss: 0.3602 - val_accuracy: 0.8670\n",
            "Epoch 18/200\n",
            "686/688 [============================>.] - ETA: 0s - loss: 0.4036 - accuracy: 0.8548\n",
            "Epoch 18: val_loss did not improve from 0.36019\n",
            "688/688 [==============================] - 8s 11ms/step - loss: 0.4039 - accuracy: 0.8547 - val_loss: 0.3684 - val_accuracy: 0.8655\n",
            "Epoch 19/200\n",
            "687/688 [============================>.] - ETA: 0s - loss: 0.4029 - accuracy: 0.8554\n",
            "Epoch 19: val_loss improved from 0.36019 to 0.35286, saving model to murat.h5\n",
            "688/688 [==============================] - 8s 12ms/step - loss: 0.4028 - accuracy: 0.8554 - val_loss: 0.3529 - val_accuracy: 0.8681\n",
            "Epoch 20/200\n",
            "685/688 [============================>.] - ETA: 0s - loss: 0.4032 - accuracy: 0.8537\n",
            "Epoch 20: val_loss did not improve from 0.35286\n",
            "688/688 [==============================] - 8s 12ms/step - loss: 0.4032 - accuracy: 0.8537 - val_loss: 0.3687 - val_accuracy: 0.8638\n",
            "Epoch 21/200\n",
            "688/688 [==============================] - ETA: 0s - loss: 0.3962 - accuracy: 0.8557\n",
            "Epoch 21: val_loss did not improve from 0.35286\n",
            "688/688 [==============================] - 8s 11ms/step - loss: 0.3962 - accuracy: 0.8557 - val_loss: 0.3737 - val_accuracy: 0.8645\n",
            "Epoch 22/200\n",
            "688/688 [==============================] - ETA: 0s - loss: 0.3946 - accuracy: 0.8556\n",
            "Epoch 22: val_loss did not improve from 0.35286\n",
            "688/688 [==============================] - 8s 12ms/step - loss: 0.3946 - accuracy: 0.8556 - val_loss: 0.3606 - val_accuracy: 0.8659\n",
            "Epoch 23/200\n",
            "687/688 [============================>.] - ETA: 0s - loss: 0.3937 - accuracy: 0.8571\n",
            "Epoch 23: val_loss improved from 0.35286 to 0.35215, saving model to murat.h5\n",
            "688/688 [==============================] - 8s 12ms/step - loss: 0.3937 - accuracy: 0.8571 - val_loss: 0.3522 - val_accuracy: 0.8685\n",
            "Epoch 24/200\n",
            "686/688 [============================>.] - ETA: 0s - loss: 0.3889 - accuracy: 0.8591\n",
            "Epoch 24: val_loss did not improve from 0.35215\n",
            "688/688 [==============================] - 8s 12ms/step - loss: 0.3889 - accuracy: 0.8590 - val_loss: 0.3538 - val_accuracy: 0.8699\n",
            "Epoch 25/200\n",
            "684/688 [============================>.] - ETA: 0s - loss: 0.3879 - accuracy: 0.8585\n",
            "Epoch 25: val_loss improved from 0.35215 to 0.34792, saving model to murat.h5\n",
            "688/688 [==============================] - 8s 12ms/step - loss: 0.3879 - accuracy: 0.8586 - val_loss: 0.3479 - val_accuracy: 0.8701\n",
            "Epoch 26/200\n",
            "684/688 [============================>.] - ETA: 0s - loss: 0.3873 - accuracy: 0.8588\n",
            "Epoch 26: val_loss did not improve from 0.34792\n",
            "688/688 [==============================] - 7s 11ms/step - loss: 0.3868 - accuracy: 0.8591 - val_loss: 0.3703 - val_accuracy: 0.8647\n",
            "Epoch 27/200\n",
            "686/688 [============================>.] - ETA: 0s - loss: 0.3829 - accuracy: 0.8604\n",
            "Epoch 27: val_loss did not improve from 0.34792\n",
            "688/688 [==============================] - 8s 11ms/step - loss: 0.3830 - accuracy: 0.8605 - val_loss: 0.3492 - val_accuracy: 0.8714\n",
            "Epoch 28/200\n",
            "686/688 [============================>.] - ETA: 0s - loss: 0.3831 - accuracy: 0.8601\n",
            "Epoch 28: val_loss did not improve from 0.34792\n",
            "688/688 [==============================] - 7s 11ms/step - loss: 0.3831 - accuracy: 0.8600 - val_loss: 0.3520 - val_accuracy: 0.8691\n",
            "Epoch 29/200\n",
            "688/688 [==============================] - ETA: 0s - loss: 0.3839 - accuracy: 0.8619\n",
            "Epoch 29: val_loss improved from 0.34792 to 0.34403, saving model to murat.h5\n",
            "688/688 [==============================] - 7s 11ms/step - loss: 0.3839 - accuracy: 0.8619 - val_loss: 0.3440 - val_accuracy: 0.8716\n",
            "Epoch 30/200\n",
            "687/688 [============================>.] - ETA: 0s - loss: 0.3801 - accuracy: 0.8616\n",
            "Epoch 30: val_loss improved from 0.34403 to 0.34278, saving model to murat.h5\n",
            "688/688 [==============================] - 7s 11ms/step - loss: 0.3800 - accuracy: 0.8616 - val_loss: 0.3428 - val_accuracy: 0.8737\n",
            "Epoch 31/200\n",
            "687/688 [============================>.] - ETA: 0s - loss: 0.3787 - accuracy: 0.8633\n",
            "Epoch 31: val_loss did not improve from 0.34278\n",
            "688/688 [==============================] - 7s 10ms/step - loss: 0.3789 - accuracy: 0.8633 - val_loss: 0.3515 - val_accuracy: 0.8712\n",
            "Epoch 32/200\n",
            "685/688 [============================>.] - ETA: 0s - loss: 0.3766 - accuracy: 0.8632\n",
            "Epoch 32: val_loss did not improve from 0.34278\n",
            "688/688 [==============================] - 7s 10ms/step - loss: 0.3766 - accuracy: 0.8633 - val_loss: 0.3458 - val_accuracy: 0.8732\n",
            "Epoch 33/200\n",
            "685/688 [============================>.] - ETA: 0s - loss: 0.3749 - accuracy: 0.8633\n",
            "Epoch 33: val_loss did not improve from 0.34278\n",
            "688/688 [==============================] - 7s 11ms/step - loss: 0.3749 - accuracy: 0.8634 - val_loss: 0.3458 - val_accuracy: 0.8704\n",
            "Epoch 34/200\n",
            "687/688 [============================>.] - ETA: 0s - loss: 0.3756 - accuracy: 0.8632\n",
            "Epoch 34: val_loss did not improve from 0.34278\n",
            "688/688 [==============================] - 7s 11ms/step - loss: 0.3757 - accuracy: 0.8632 - val_loss: 0.3484 - val_accuracy: 0.8724\n",
            "Epoch 35/200\n",
            "687/688 [============================>.] - ETA: 0s - loss: 0.3725 - accuracy: 0.8650\n",
            "Epoch 35: val_loss did not improve from 0.34278\n",
            "688/688 [==============================] - 7s 11ms/step - loss: 0.3728 - accuracy: 0.8649 - val_loss: 0.3469 - val_accuracy: 0.8691\n",
            "Epoch 36/200\n",
            "685/688 [============================>.] - ETA: 0s - loss: 0.3713 - accuracy: 0.8649\n",
            "Epoch 36: val_loss did not improve from 0.34278\n",
            "688/688 [==============================] - 7s 11ms/step - loss: 0.3710 - accuracy: 0.8651 - val_loss: 0.3523 - val_accuracy: 0.8712\n",
            "Epoch 37/200\n",
            "684/688 [============================>.] - ETA: 0s - loss: 0.3693 - accuracy: 0.8659\n",
            "Epoch 37: val_loss improved from 0.34278 to 0.34188, saving model to murat.h5\n",
            "688/688 [==============================] - 8s 12ms/step - loss: 0.3693 - accuracy: 0.8659 - val_loss: 0.3419 - val_accuracy: 0.8754\n",
            "Epoch 38/200\n",
            "687/688 [============================>.] - ETA: 0s - loss: 0.3666 - accuracy: 0.8667\n",
            "Epoch 38: val_loss improved from 0.34188 to 0.33925, saving model to murat.h5\n",
            "688/688 [==============================] - 8s 11ms/step - loss: 0.3666 - accuracy: 0.8667 - val_loss: 0.3393 - val_accuracy: 0.8757\n",
            "Epoch 39/200\n",
            "684/688 [============================>.] - ETA: 0s - loss: 0.3699 - accuracy: 0.8669\n",
            "Epoch 39: val_loss did not improve from 0.33925\n",
            "688/688 [==============================] - 8s 11ms/step - loss: 0.3702 - accuracy: 0.8668 - val_loss: 0.3568 - val_accuracy: 0.8697\n",
            "Epoch 40/200\n",
            "684/688 [============================>.] - ETA: 0s - loss: 0.3687 - accuracy: 0.8655\n",
            "Epoch 40: val_loss did not improve from 0.33925\n",
            "688/688 [==============================] - 8s 11ms/step - loss: 0.3691 - accuracy: 0.8652 - val_loss: 0.3450 - val_accuracy: 0.8715\n",
            "Epoch 41/200\n",
            "687/688 [============================>.] - ETA: 0s - loss: 0.3646 - accuracy: 0.8668\n",
            "Epoch 41: val_loss did not improve from 0.33925\n",
            "688/688 [==============================] - 8s 11ms/step - loss: 0.3650 - accuracy: 0.8666 - val_loss: 0.3566 - val_accuracy: 0.8721\n",
            "Epoch 42/200\n",
            "686/688 [============================>.] - ETA: 0s - loss: 0.3628 - accuracy: 0.8677\n",
            "Epoch 42: val_loss did not improve from 0.33925\n",
            "688/688 [==============================] - 9s 13ms/step - loss: 0.3628 - accuracy: 0.8677 - val_loss: 0.3502 - val_accuracy: 0.8707\n",
            "Epoch 43/200\n",
            "685/688 [============================>.] - ETA: 0s - loss: 0.3658 - accuracy: 0.8666\n",
            "Epoch 43: val_loss did not improve from 0.33925\n",
            "688/688 [==============================] - 9s 13ms/step - loss: 0.3659 - accuracy: 0.8667 - val_loss: 0.3472 - val_accuracy: 0.8724\n",
            "Epoch 44/200\n",
            "685/688 [============================>.] - ETA: 0s - loss: 0.3626 - accuracy: 0.8682\n",
            "Epoch 44: val_loss did not improve from 0.33925\n",
            "688/688 [==============================] - 9s 13ms/step - loss: 0.3624 - accuracy: 0.8682 - val_loss: 0.3635 - val_accuracy: 0.8674\n",
            "Epoch 45/200\n",
            "685/688 [============================>.] - ETA: 0s - loss: 0.3643 - accuracy: 0.8665\n",
            "Epoch 45: val_loss did not improve from 0.33925\n",
            "688/688 [==============================] - 8s 12ms/step - loss: 0.3642 - accuracy: 0.8666 - val_loss: 0.3417 - val_accuracy: 0.8759\n",
            "Epoch 46/200\n",
            "686/688 [============================>.] - ETA: 0s - loss: 0.3587 - accuracy: 0.8697\n",
            "Epoch 46: val_loss did not improve from 0.33925\n",
            "688/688 [==============================] - 8s 11ms/step - loss: 0.3586 - accuracy: 0.8697 - val_loss: 0.3466 - val_accuracy: 0.8757\n",
            "Epoch 47/200\n",
            "686/688 [============================>.] - ETA: 0s - loss: 0.3644 - accuracy: 0.8655\n",
            "Epoch 47: val_loss did not improve from 0.33925\n",
            "688/688 [==============================] - 10s 15ms/step - loss: 0.3643 - accuracy: 0.8656 - val_loss: 0.3436 - val_accuracy: 0.8751\n",
            "Epoch 48/200\n",
            "688/688 [==============================] - ETA: 0s - loss: 0.3568 - accuracy: 0.8704\n",
            "Epoch 48: val_loss did not improve from 0.33925\n",
            "688/688 [==============================] - 11s 15ms/step - loss: 0.3568 - accuracy: 0.8704 - val_loss: 0.3401 - val_accuracy: 0.8792\n",
            "Epoch 49/200\n",
            "685/688 [============================>.] - ETA: 0s - loss: 0.3610 - accuracy: 0.8677\n",
            "Epoch 49: val_loss did not improve from 0.33925\n",
            "688/688 [==============================] - 8s 12ms/step - loss: 0.3608 - accuracy: 0.8677 - val_loss: 0.3399 - val_accuracy: 0.8779\n",
            "Epoch 50/200\n",
            "686/688 [============================>.] - ETA: 0s - loss: 0.3570 - accuracy: 0.8683\n",
            "Epoch 50: val_loss did not improve from 0.33925\n",
            "688/688 [==============================] - 8s 11ms/step - loss: 0.3569 - accuracy: 0.8683 - val_loss: 0.3407 - val_accuracy: 0.8745\n",
            "Epoch 51/200\n",
            "683/688 [============================>.] - ETA: 0s - loss: 0.3547 - accuracy: 0.8704\n",
            "Epoch 51: val_loss improved from 0.33925 to 0.33419, saving model to murat.h5\n",
            "688/688 [==============================] - 8s 11ms/step - loss: 0.3547 - accuracy: 0.8704 - val_loss: 0.3342 - val_accuracy: 0.8774\n",
            "Epoch 52/200\n",
            "685/688 [============================>.] - ETA: 0s - loss: 0.3566 - accuracy: 0.8706\n",
            "Epoch 52: val_loss did not improve from 0.33419\n",
            "688/688 [==============================] - 8s 11ms/step - loss: 0.3563 - accuracy: 0.8708 - val_loss: 0.3343 - val_accuracy: 0.8761\n",
            "Epoch 53/200\n",
            "684/688 [============================>.] - ETA: 0s - loss: 0.3534 - accuracy: 0.8713\n",
            "Epoch 53: val_loss did not improve from 0.33419\n",
            "688/688 [==============================] - 8s 11ms/step - loss: 0.3535 - accuracy: 0.8714 - val_loss: 0.3476 - val_accuracy: 0.8768\n",
            "Epoch 54/200\n",
            "688/688 [==============================] - ETA: 0s - loss: 0.3540 - accuracy: 0.8708\n",
            "Epoch 54: val_loss did not improve from 0.33419\n",
            "688/688 [==============================] - 8s 11ms/step - loss: 0.3540 - accuracy: 0.8708 - val_loss: 0.3432 - val_accuracy: 0.8774\n",
            "Epoch 55/200\n",
            "688/688 [==============================] - ETA: 0s - loss: 0.3553 - accuracy: 0.8697\n",
            "Epoch 55: val_loss did not improve from 0.33419\n",
            "688/688 [==============================] - 8s 12ms/step - loss: 0.3553 - accuracy: 0.8697 - val_loss: 0.3499 - val_accuracy: 0.8758\n",
            "Epoch 56/200\n",
            "686/688 [============================>.] - ETA: 0s - loss: 0.3526 - accuracy: 0.8720\n",
            "Epoch 56: val_loss did not improve from 0.33419\n",
            "688/688 [==============================] - 8s 12ms/step - loss: 0.3528 - accuracy: 0.8720 - val_loss: 0.3429 - val_accuracy: 0.8737\n",
            "Epoch 57/200\n",
            "687/688 [============================>.] - ETA: 0s - loss: 0.3516 - accuracy: 0.8730\n",
            "Epoch 57: val_loss did not improve from 0.33419\n",
            "688/688 [==============================] - 8s 12ms/step - loss: 0.3518 - accuracy: 0.8730 - val_loss: 0.3351 - val_accuracy: 0.8791\n",
            "Epoch 58/200\n",
            "686/688 [============================>.] - ETA: 0s - loss: 0.3557 - accuracy: 0.8693\n",
            "Epoch 58: val_loss improved from 0.33419 to 0.33321, saving model to murat.h5\n",
            "688/688 [==============================] - 9s 12ms/step - loss: 0.3556 - accuracy: 0.8693 - val_loss: 0.3332 - val_accuracy: 0.8783\n",
            "Epoch 59/200\n",
            "686/688 [============================>.] - ETA: 0s - loss: 0.3543 - accuracy: 0.8707\n",
            "Epoch 59: val_loss did not improve from 0.33321\n",
            "688/688 [==============================] - 8s 12ms/step - loss: 0.3543 - accuracy: 0.8708 - val_loss: 0.3530 - val_accuracy: 0.8754\n",
            "Epoch 60/200\n",
            "683/688 [============================>.] - ETA: 0s - loss: 0.3509 - accuracy: 0.8716\n",
            "Epoch 60: val_loss did not improve from 0.33321\n",
            "688/688 [==============================] - 8s 11ms/step - loss: 0.3513 - accuracy: 0.8715 - val_loss: 0.3404 - val_accuracy: 0.8766\n",
            "Epoch 61/200\n",
            "683/688 [============================>.] - ETA: 0s - loss: 0.3504 - accuracy: 0.8724\n",
            "Epoch 61: val_loss did not improve from 0.33321\n",
            "688/688 [==============================] - 8s 11ms/step - loss: 0.3497 - accuracy: 0.8728 - val_loss: 0.3507 - val_accuracy: 0.8745\n",
            "Epoch 62/200\n",
            "688/688 [==============================] - ETA: 0s - loss: 0.3509 - accuracy: 0.8712\n",
            "Epoch 62: val_loss did not improve from 0.33321\n",
            "688/688 [==============================] - 11s 16ms/step - loss: 0.3509 - accuracy: 0.8712 - val_loss: 0.3356 - val_accuracy: 0.8755\n",
            "Epoch 63/200\n",
            "687/688 [============================>.] - ETA: 0s - loss: 0.3475 - accuracy: 0.8723\n",
            "Epoch 63: val_loss did not improve from 0.33321\n",
            "688/688 [==============================] - 12s 17ms/step - loss: 0.3474 - accuracy: 0.8724 - val_loss: 0.3399 - val_accuracy: 0.8780\n",
            "Epoch 64/200\n",
            "686/688 [============================>.] - ETA: 0s - loss: 0.3524 - accuracy: 0.8731\n",
            "Epoch 64: val_loss did not improve from 0.33321\n",
            "688/688 [==============================] - 8s 12ms/step - loss: 0.3526 - accuracy: 0.8731 - val_loss: 0.3336 - val_accuracy: 0.8757\n",
            "Epoch 65/200\n",
            "686/688 [============================>.] - ETA: 0s - loss: 0.3489 - accuracy: 0.8726\n",
            "Epoch 65: val_loss did not improve from 0.33321\n",
            "688/688 [==============================] - 8s 12ms/step - loss: 0.3487 - accuracy: 0.8727 - val_loss: 0.3413 - val_accuracy: 0.8774\n",
            "Epoch 66/200\n",
            "686/688 [============================>.] - ETA: 0s - loss: 0.3485 - accuracy: 0.8728\n",
            "Epoch 66: val_loss did not improve from 0.33321\n",
            "688/688 [==============================] - 8s 12ms/step - loss: 0.3487 - accuracy: 0.8727 - val_loss: 0.3606 - val_accuracy: 0.8729\n",
            "Epoch 67/200\n",
            "683/688 [============================>.] - ETA: 0s - loss: 0.3459 - accuracy: 0.8728\n",
            "Epoch 67: val_loss did not improve from 0.33321\n",
            "688/688 [==============================] - 8s 12ms/step - loss: 0.3456 - accuracy: 0.8729 - val_loss: 0.3359 - val_accuracy: 0.8789\n",
            "Epoch 68/200\n",
            "688/688 [==============================] - ETA: 0s - loss: 0.3476 - accuracy: 0.8736\n",
            "Epoch 68: val_loss did not improve from 0.33321\n",
            "688/688 [==============================] - 8s 12ms/step - loss: 0.3476 - accuracy: 0.8736 - val_loss: 0.3403 - val_accuracy: 0.8768\n",
            "Epoch 69/200\n",
            "684/688 [============================>.] - ETA: 0s - loss: 0.3436 - accuracy: 0.8737\n",
            "Epoch 69: val_loss did not improve from 0.33321\n",
            "688/688 [==============================] - 8s 12ms/step - loss: 0.3445 - accuracy: 0.8734 - val_loss: 0.3347 - val_accuracy: 0.8789\n",
            "Epoch 70/200\n",
            "683/688 [============================>.] - ETA: 0s - loss: 0.3505 - accuracy: 0.8721\n",
            "Epoch 70: val_loss did not improve from 0.33321\n",
            "688/688 [==============================] - 8s 12ms/step - loss: 0.3508 - accuracy: 0.8720 - val_loss: 0.3334 - val_accuracy: 0.8781\n",
            "Epoch 71/200\n",
            "684/688 [============================>.] - ETA: 0s - loss: 0.3453 - accuracy: 0.8725\n",
            "Epoch 71: val_loss did not improve from 0.33321\n",
            "688/688 [==============================] - 8s 12ms/step - loss: 0.3450 - accuracy: 0.8727 - val_loss: 0.3548 - val_accuracy: 0.8734\n",
            "Epoch 72/200\n",
            "688/688 [==============================] - ETA: 0s - loss: 0.3459 - accuracy: 0.8750\n",
            "Epoch 72: val_loss did not improve from 0.33321\n",
            "688/688 [==============================] - 8s 11ms/step - loss: 0.3459 - accuracy: 0.8750 - val_loss: 0.3368 - val_accuracy: 0.8778\n",
            "Epoch 73/200\n",
            "688/688 [==============================] - ETA: 0s - loss: 0.3448 - accuracy: 0.8740\n",
            "Epoch 73: val_loss did not improve from 0.33321\n",
            "688/688 [==============================] - 8s 11ms/step - loss: 0.3448 - accuracy: 0.8740 - val_loss: 0.3395 - val_accuracy: 0.8771\n",
            "Epoch 73: early stopping\n"
          ]
        }
      ],
      "source": [
        "model.compile(loss='categorical_crossentropy',\n",
        "        optimizer=keras.optimizers.RMSprop(),\n",
        "        metrics=['accuracy'])\n",
        "\n",
        "os.chdir(path)\n",
        "\n",
        "history = model.fit(xtrain, ytrain, batch_size=64 , epochs = 200,\n",
        "          validation_data=(xtest,ytest),\n",
        "          callbacks= [EarlyStopping(patience = 15,verbose = 1, mode = 'auto'), \n",
        "                      ModelCheckpoint(filepath = 'murat.h5',save_best_only = True,verbose=1)],\n",
        "          verbose=1, shuffle=True)"
      ]
    },
    {
      "cell_type": "code",
      "execution_count": 19,
      "metadata": {
        "colab": {
          "base_uri": "https://localhost:8080/"
        },
        "id": "ou40_yFlUkbN",
        "outputId": "bbc5b921-3d62-45f4-bd20-a3f9d1520b9a"
      },
      "outputs": [
        {
          "output_type": "stream",
          "name": "stdout",
          "text": [
            "Training Acuracy: 0.9073408842086792\n",
            "Test Accuracy 0.8782727122306824\n"
          ]
        }
      ],
      "source": [
        "model.load_weights('murat.h5')\n",
        "print(\"Training Acuracy:\", model.evaluate(xtrain, ytrain, verbose=0)[1])\n",
        "print(\"Test Accuracy\", model.evaluate(xtest, ytest, verbose=0)[1])"
      ]
    },
    {
      "cell_type": "code",
      "execution_count": 10,
      "metadata": {
        "colab": {
          "base_uri": "https://localhost:8080/",
          "height": 296
        },
        "id": "K7iKIBRdjZw_",
        "outputId": "313e1acd-10fb-4d7a-a8da-73bf40b05502"
      },
      "outputs": [
        {
          "output_type": "execute_result",
          "data": {
            "text/plain": [
              "<matplotlib.legend.Legend at 0x7f17df271b10>"
            ]
          },
          "metadata": {},
          "execution_count": 10
        },
        {
          "output_type": "display_data",
          "data": {
            "text/plain": [
              "<Figure size 432x288 with 2 Axes>"
            ],
            "image/png": "[encoded data removed]"
          },
          "metadata": {
            "needs_background": "light"
          }
        }
      ],
      "source": [
        "import os\n",
        "path = '/content/gdrive/My Drive/ColabNotebooks/ECE 612/project 3'\n",
        "\n",
        "import matplotlib.pyplot as plt\n",
        "plt.figure(1)  \n",
        "   \n",
        " # summarize history for accuracy  \n",
        "   \n",
        "plt.subplot(211)  \n",
        "plt.plot(history.history['accuracy'])  \n",
        "plt.plot(history.history['val_accuracy'])  \n",
        "plt.ylabel('Accuracy')  \n",
        "plt.xlabel('Epoch')  \n",
        "plt.legend(['train', 'validation'], loc='lower right')  \n",
        "   \n",
        " # summarize history for loss  \n",
        "   \n",
        "plt.subplot(212)  \n",
        "plt.plot(history.history['loss'])  \n",
        "plt.plot(history.history['val_loss'])    \n",
        "plt.ylabel('Loss')  \n",
        "plt.xlabel('Epoch')  \n",
        "plt.legend(['train', 'validation'], loc='upper right')  \n",
        "\n",
        "#plt.savefig('learning_curves_v2',format='png',dpi=1000)\n",
        "#plt.show()  "
      ]
    },
    {
      "cell_type": "code",
      "source": [
        "#\"\"\"**Loading and testing the model performance**\"\"\"\n",
        "labels = [0,1,2,3,4,5,6,7,8,9]\n",
        "model_name = 'murat.h5'\n",
        "model_path = os.path.join(path, model_name)\n",
        "model.load_weights(model_path)\n",
        "predicts = model.predict(xtest)\n",
        "ypred = np.argmax(predicts, axis = 1)\n",
        "cm = confusion_matrix(ytest_bak, ypred)\n",
        "disp = ConfusionMatrixDisplay(confusion_matrix=cm, display_labels=labels)\n",
        "disp.plot(cmap=plt.cm.Blues)"
      ],
      "metadata": {
        "colab": {
          "base_uri": "https://localhost:8080/",
          "height": 296
        },
        "id": "kcJStVOWtZw7",
        "outputId": "7d7a19fc-190a-4a7a-e05b-df26aa673fb5"
      },
      "execution_count": 20,
      "outputs": [
        {
          "output_type": "execute_result",
          "data": {
            "text/plain": [
              "<sklearn.metrics._plot.confusion_matrix.ConfusionMatrixDisplay at 0x7f17de1003d0>"
            ]
          },
          "metadata": {},
          "execution_count": 20
        },
        {
          "output_type": "display_data",
          "data": {
            "text/plain": [
              "<Figure size 432x288 with 2 Axes>"
            ],
            "image/png": "[encoded data removed]"
          },
          "metadata": {
            "needs_background": "light"
          }
        }
      ]
    }
  ],
  "metadata": {
    "accelerator": "GPU",
    "colab": {
      "collapsed_sections": [],
      "name": "project3_v2.ipynb",
      "provenance": []
    },
    "kernelspec": {
      "display_name": "Python 3",
      "name": "python3"
    },
    "language_info": {
      "name": "python"
    }
  },
  "nbformat": 4,
  "nbformat_minor": 0
}